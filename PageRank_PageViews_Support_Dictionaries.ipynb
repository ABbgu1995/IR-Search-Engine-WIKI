{
  "cells": [
    {
      "cell_type": "code",
      "execution_count": null,
      "metadata": {
        "colab": {
          "base_uri": "https://localhost:8080/"
        },
        "id": "byNgReCYsmA9",
        "outputId": "6bb8e3f8-d086-459f-a657-e3d517ee2e3c"
      },
      "outputs": [
        {
          "name": "stdout",
          "output_type": "stream",
          "text": [
            "NAME          PLATFORM  PRIMARY_WORKER_COUNT  SECONDARY_WORKER_COUNT  STATUS   ZONE           SCHEDULED_DELETE\r\n",
            "cluster-fbc8  GCE       2                                             RUNNING  us-central1-a\r\n"
          ]
        }
      ],
      "source": [
        "# if the following command generates an error, you probably didn't enable\n",
        "# the cluster security option \"Allow API access to all Google Cloud services\"\n",
        "# under Manage Security → Project Access when setting up the cluster\n",
        "!gcloud dataproc clusters list --region us-central1"
      ]
    },
    {
      "cell_type": "code",
      "execution_count": null,
      "metadata": {
        "colab": {
          "base_uri": "https://localhost:8080/"
        },
        "id": "kw33QgujFQez",
        "outputId": "ffd0222a-c706-4cda-eceb-0b60cda7524e",
        "scrolled": true
      },
      "outputs": [
        {
          "name": "stdout",
          "output_type": "stream",
          "text": [
            "\u001b[33mWARNING: Running pip as the 'root' user can result in broken permissions and conflicting behaviour with the system package manager. It is recommended to use a virtual environment instead: https://pip.pypa.io/warnings/venv\u001b[0m\u001b[33m\n",
            "\u001b[0m\u001b[33mWARNING: Running pip as the 'root' user can result in broken permissions and conflicting behaviour with the system package manager. It is recommended to use a virtual environment instead: https://pip.pypa.io/warnings/venv\u001b[0m\u001b[33m\n",
            "\u001b[0m"
          ]
        }
      ],
      "source": [
        "!pip install -q google-cloud-storage==1.43.0\n",
        "!pip install -q graphframes"
      ]
    },
    {
      "cell_type": "code",
      "execution_count": null,
      "metadata": {
        "id": "BkEErqJnsXyy",
        "outputId": "db53dfa3-b342-4a92-a3df-5810defaf67b"
      },
      "outputs": [
        {
          "name": "stderr",
          "output_type": "stream",
          "text": [
            "[nltk_data] Downloading package stopwords to /root/nltk_data...\n",
            "[nltk_data]   Package stopwords is already up-to-date!\n"
          ]
        },
        {
          "data": {
            "text/plain": [
              "True"
            ]
          },
          "execution_count": 3,
          "metadata": {},
          "output_type": "execute_result"
        }
      ],
      "source": [
        "import pyspark\n",
        "import sys\n",
        "from collections import Counter, OrderedDict, defaultdict\n",
        "import itertools\n",
        "from itertools import islice, count, groupby\n",
        "import pandas as pd\n",
        "import os\n",
        "import re\n",
        "from operator import itemgetter\n",
        "import nltk\n",
        "from nltk.stem.porter import *\n",
        "from nltk.corpus import stopwords\n",
        "from time import time\n",
        "from pathlib import Path\n",
        "import pickle\n",
        "import pandas as pd\n",
        "from google.cloud import storage\n",
        "\n",
        "import hashlib\n",
        "def _hash(s):\n",
        "    return hashlib.blake2b(bytes(s, encoding='utf8'), digest_size=5).hexdigest()\n",
        "\n",
        "nltk.download('stopwords')"
      ]
    },
    {
      "cell_type": "code",
      "execution_count": null,
      "metadata": {
        "id": "OgiSewKAsgKd"
      },
      "outputs": [],
      "source": [
        "from pyspark.sql import *\n",
        "from pyspark.sql.functions import *\n",
        "from pyspark import SparkContext, SparkConf, SparkFiles\n",
        "from pyspark.sql import SQLContext\n",
        "from graphframes import *"
      ]
    },
    {
      "cell_type": "code",
      "execution_count": null,
      "metadata": {
        "colab": {
          "base_uri": "https://localhost:8080/",
          "height": 219
        },
        "id": "PUyhQAlBs8qL",
        "outputId": "886ca4a6-93a3-4edc-86dc-21118779bf3f"
      },
      "outputs": [
        {
          "data": {
            "text/html": [
              "\n",
              "            <div>\n",
              "                <p><b>SparkSession - hive</b></p>\n",
              "                \n",
              "        <div>\n",
              "            <p><b>SparkContext</b></p>\n",
              "\n",
              "            <p><a href=\"http://cluster-fbc8-m.c.ir-ex3.internal:39697\">Spark UI</a></p>\n",
              "\n",
              "            <dl>\n",
              "              <dt>Version</dt>\n",
              "                <dd><code>v3.3.2</code></dd>\n",
              "              <dt>Master</dt>\n",
              "                <dd><code>yarn</code></dd>\n",
              "              <dt>AppName</dt>\n",
              "                <dd><code>PySparkShell</code></dd>\n",
              "            </dl>\n",
              "        </div>\n",
              "        \n",
              "            </div>\n",
              "        "
            ],
            "text/plain": [
              "<pyspark.sql.session.SparkSession at 0x7f7d0e8ff880>"
            ]
          },
          "execution_count": 5,
          "metadata": {},
          "output_type": "execute_result"
        }
      ],
      "source": [
        "spark"
      ]
    },
    {
      "cell_type": "code",
      "execution_count": null,
      "metadata": {
        "id": "DkdjBm5DOVWX"
      },
      "outputs": [],
      "source": [
        "bucket_name = 'new315071910'\n",
        "full_path = f\"gs://{bucket_name}/\"\n",
        "paths=[]\n",
        "\n",
        "client = storage.Client()\n",
        "blobs = client.list_blobs(bucket_name)\n",
        "\n",
        "for b in blobs:\n",
        "    if b.name.endswith('.parquet'):\n",
        "        paths.append(full_path+b.name)"
      ]
    },
    {
      "cell_type": "code",
      "execution_count": null,
      "metadata": {
        "colab": {
          "base_uri": "https://localhost:8080/"
        },
        "id": "vDuikxFbN9B7",
        "outputId": "3b35f304-f96d-462f-97d2-d3482ce32525"
      },
      "outputs": [
        {
          "name": "stderr",
          "output_type": "stream",
          "text": [
            "                                                                                \r"
          ]
        }
      ],
      "source": [
        "parquetFile = spark.read.parquet(*paths)\n",
        "doc_text_pairs = parquetFile.select(\"text\", \"id\").rdd"
      ]
    },
    {
      "cell_type": "code",
      "execution_count": null,
      "metadata": {
        "id": "9M-WrSQZblHJ"
      },
      "outputs": [],
      "source": [
        "english_stopwords = frozenset(stopwords.words('english'))\n",
        "corpus_stopwords = [\"category\", \"references\", \"also\", \"external\", \"links\",\n",
        "                    \"may\", \"first\", \"see\", \"history\", \"people\", \"one\", \"two\",\n",
        "                    \"part\", \"thumb\", \"including\", \"second\", \"following\",\n",
        "                    \"many\", \"however\", \"would\", \"became\"]\n",
        "\n",
        "all_stopwords = english_stopwords.union(corpus_stopwords)\n",
        "RE_WORD = re.compile(r\"\"\"[\\#\\@\\w](['\\-]?\\w){2,24}\"\"\", re.UNICODE)\n",
        "\n",
        "def tokenize(text):\n",
        "    list_of_tokens =  [token.group() for token in RE_WORD.finditer(text.lower()) if token.group() not in all_stopwords]\n",
        "    return list_of_tokens"
      ]
    },
    {
      "cell_type": "code",
      "source": [
        "DL_dict = doc_text_pairs.map(lambda row: (row[1], len(tokenize(row[0])))).collectAsMap()\n",
        "with open('DL_dict.pkl', 'wb') as handle:\n",
        "   pickle.dump(DL_dict, handle, protocol=pickle.HIGHEST_PROTOCOL)\n",
        "DL_dict_src = \"DL_dict.pkl\"\n",
        "DL_dict_dst = f'gs://{bucket_name}/{DL_dict_src}'\n",
        "!gsutil cp $DL_dict_src $DL_dict_dst"
      ],
      "metadata": {
        "id": "gdtbZuiu8fKh"
      },
      "execution_count": null,
      "outputs": []
    },
    {
      "cell_type": "code",
      "source": [
        "parquetFile = spark.read.parquet(*paths)\n",
        "doc_title_pairs_for_dict = parquetFile.select(\"id\", \"title\").rdd\n",
        "docs_titles_big_dict = doc_title_pairs_for_dict.collectAsMap()\n",
        "with open('docs_to_title_dict.pkl', 'wb') as handle:\n",
        "   pickle.dump(docs_titles_big_dict, handle, protocol=pickle.HIGHEST_PROTOCOL)\n",
        "\n",
        "index_src_title = \"docs_to_title_dict.pkl\"\n",
        "index_dst_title = f'gs://{bucket_name}/{index_src_title}'\n",
        "!gsutil cp $index_src_title $index_dst_title"
      ],
      "metadata": {
        "id": "0CNRQSAA8iNY"
      },
      "execution_count": null,
      "outputs": []
    },
    {
      "cell_type": "code",
      "execution_count": null,
      "metadata": {
        "id": "gXDX38308UjP"
      },
      "outputs": [],
      "source": [
        "index_src_title = \"docs_to_title_dict.pkl\"\n",
        "index_dst_title = f'gs://{bucket_name}/{index_src_title}'\n",
        "!gsutil cp $index_src_title $index_dst_title"
      ]
    },
    {
      "cell_type": "code",
      "execution_count": null,
      "metadata": {
        "id": "RRXdCCoP8UjP"
      },
      "outputs": [],
      "source": [
        "print(len(docs_titles_big_dict.keys()))"
      ]
    },
    {
      "cell_type": "markdown",
      "metadata": {
        "id": "JsthVUxIl7sB"
      },
      "source": [
        "# Page Rank"
      ]
    },
    {
      "cell_type": "code",
      "execution_count": null,
      "metadata": {
        "id": "CcmgyCral7eF"
      },
      "outputs": [],
      "source": [
        "def generate_graph(pages):\n",
        "  ''' Compute the directed graph generated by wiki links.\n",
        "  Parameters:\n",
        "  -----------\n",
        "    pages: RDD\n",
        "      An RDD where each row consists of one wikipedia articles with 'id' and\n",
        "      'anchor_text'.\n",
        "  Returns:\n",
        "  --------\n",
        "    edges: RDD\n",
        "      An RDD where each row represents an edge in the directed graph created by\n",
        "      the wikipedia links. The first entry should the source page id and the\n",
        "      second entry is the destination page id. No duplicates should be present.\n",
        "    vertices: RDD\n",
        "      An RDD where each row represents a vetrix (node) in the directed graph\n",
        "      created by the wikipedia links. No duplicates should be present.\n",
        "  '''\n",
        "  # YOUR CODE HERE\n",
        "  edges = pages.flatMap(lambda x: set([(x[0], i[0]) for i in x[1]]))\n",
        "  vertices = edges.flatMap(lambda x: x).distinct().flatMap(lambda x: [[x]])\n",
        "  return edges, vertices"
      ]
    },
    {
      "cell_type": "code",
      "source": [
        "pages_links = parquetFile.select (\"id\",\"anchor_text\").rdd\n",
        "edges, vertices = generate_graph(pages_links)\n",
        "edgesDF = edges.toDF(['src', 'dst']).repartition(124, 'src')\n",
        "verticesDF = vertices.toDF(['id']).repartition(124, 'id')\n",
        "g = GraphFrame(verticesDF, edgesDF)\n",
        "pr_results = g.pageRank(resetProbability=0.15, maxIter=6)\n",
        "pr = pr_results.vertices.select(\"id\", \"pagerank\")\n",
        "pr = pr.sort(col('pagerank').desc())\n",
        "pr.repartition(1).write.csv(f'gs://{bucket_name}/pr', compression=\"gzip\")"
      ],
      "metadata": {
        "id": "xEl78Cql8lc6"
      },
      "execution_count": null,
      "outputs": []
    },
    {
      "cell_type": "code",
      "execution_count": null,
      "metadata": {
        "id": "-2In1v8D8UjQ"
      },
      "outputs": [],
      "source": [
        "pageview = 'https://dumps.wikimedia.org/other/pageview_complete/2023/2023-12/pageviews-20231207-user.bz2'\n",
        "p = Path(pageview)\n",
        "pv_name = p.name\n",
        "pv_temp = f'{p.stem}-4dedup.txt'\n",
        "pageview_pkl_file = f'{p.stem}.pkl'\n",
        "!wget -N $pageview\n",
        "!bzcat $pv_name | grep \"^en\\.wikipedia\" | cut -d' ' -f3,5 | grep -P \"^\\d+\\s\\d+$\" > $pv_temp\n",
        "wid2pv = Counter()\n",
        "with open(pv_temp, 'rt') as f:\n",
        "  for line in f:\n",
        "    parts = line.split(' ')\n",
        "    wid2pv.update({int(parts[0]): int(parts[1])})\n",
        "with open(pageview_pkl_file, 'wb') as f:\n",
        "  pickle.dump(wid2pv, f)\n",
        "\n",
        "bucket_name = \"315071910\"\n",
        "bucket = client.bucket(bucket_name)\n",
        "blob = bucket.blob(pageview_pkl_file)\n",
        "blob.upload_from_filename(pageview_pkl_file)\n",
        "os.remove(pageview_pkl_file)\n",
        "index_src = pageview_pkl_file\n",
        "index_dst = f'gs://{bucket_name}/{index_src}'\n",
        "!gsutil cp $index_src $index_dstt"
      ]
    }
  ],
  "metadata": {
    "colab": {
      "provenance": []
    },
    "kernelspec": {
      "display_name": "PySpark",
      "language": "python",
      "name": "pyspark"
    },
    "language_info": {
      "codemirror_mode": {
        "name": "ipython",
        "version": 3
      },
      "file_extension": ".py",
      "mimetype": "text/x-python",
      "name": "python",
      "nbconvert_exporter": "python",
      "pygments_lexer": "ipython3",
      "version": "3.10.8"
    }
  },
  "nbformat": 4,
  "nbformat_minor": 0
}